{
 "cells": [
  {
   "cell_type": "code",
   "execution_count": 1,
   "metadata": {},
   "outputs": [],
   "source": [
    "import torch\n",
    "import torch.nn as nn\n",
    "\n",
    "#First Model Linear Regression"
   ]
  },
  {
   "cell_type": "code",
   "execution_count": 2,
   "metadata": {},
   "outputs": [],
   "source": [
    "#fake data\n",
    "train_X = torch.randn(100,1) #random numbers\n",
    "train_Y = 3* train_X + 5 + torch.randn(100,1) * 0.5 #Linear function with limited randomness\n",
    "#function 3* x_train + 5 + randomness"
   ]
  },
  {
   "cell_type": "code",
   "execution_count": 3,
   "metadata": {},
   "outputs": [],
   "source": [
    "class LinearRegression(nn.Module):\n",
    "    def __init__(self):\n",
    "        super(LinearRegression,self).__init__()\n",
    "        self.linear = nn.Linear(1,1) # takes one input produces one output\n",
    "    #In pytorch you write your own forward functions\n",
    "    def forward(self, x):\n",
    "        return self.linear(x)"
   ]
  },
  {
   "cell_type": "code",
   "execution_count": 4,
   "metadata": {},
   "outputs": [
    {
     "name": "stdout",
     "output_type": "stream",
     "text": [
      "Epoch:0, Training Loss:37.9466438293457\n",
      "Epoch:10, Training Loss:25.46874237060547\n",
      "Epoch:20, Training Loss:17.117843627929688\n",
      "Epoch:30, Training Loss:11.528465270996094\n",
      "Epoch:40, Training Loss:7.787067890167236\n",
      "Epoch:50, Training Loss:5.282426357269287\n",
      "Epoch:60, Training Loss:3.6055562496185303\n",
      "Epoch:70, Training Loss:2.482771396636963\n",
      "Epoch:80, Training Loss:1.7309088706970215\n",
      "Epoch:90, Training Loss:1.2273797988891602\n",
      "Epoch:100, Training Loss:0.8901236653327942\n",
      "Epoch:110, Training Loss:0.664211630821228\n",
      "Epoch:120, Training Loss:0.5128661394119263\n",
      "Epoch:130, Training Loss:0.4114637076854706\n",
      "Epoch:140, Training Loss:0.34351521730422974\n"
     ]
    }
   ],
   "source": [
    "#Running the Linear Model (\"Driver Code\")\n",
    "modelFFNN = LinearRegression()\n",
    "lossFn = nn.MSELoss() #common also name criterion\n",
    "optimizer = torch.optim.SGD(modelFFNN.parameters(), lr=0.01)\n",
    "for epoch in range(150):\n",
    "    prediction = modelFFNN(train_X)\n",
    "    loss = lossFn(prediction, train_Y)\n",
    "    optimizer.zero_grad() # you have to zero the gradients \n",
    "    loss.backward() # back propagation \n",
    "    optimizer.step() # Learning step \n",
    "    if epoch %10 == 0:\n",
    "        print(f\"Epoch:{epoch}, Training Loss:{loss.item()}\")"
   ]
  },
  {
   "cell_type": "code",
   "execution_count": 5,
   "metadata": {},
   "outputs": [
    {
     "name": "stdout",
     "output_type": "stream",
     "text": [
      "Model function = x * tensor([[2.8740]]) + tensor([4.6858])\n"
     ]
    }
   ],
   "source": [
    "for layer in modelFFNN.children():\n",
    "    if isinstance(layer, nn.Linear):\n",
    "        print(f\"Model function = x * {layer.state_dict()['weight']} + {layer.state_dict()['bias']}\")\n"
   ]
  },
  {
   "cell_type": "code",
   "execution_count": 13,
   "metadata": {},
   "outputs": [],
   "source": [
    "#Feed forward Neural Network Classification problem\n",
    "from sklearn.datasets import make_moons\n",
    "import numpy as np\n",
    "# generating data using SKlearn \n",
    "# Makes two interleaving half circles.\n",
    "# Its a simple toy dataset which visualizes clustering and classification algorithms \n",
    "X,Y = make_moons(n_samples=2000, noise=0.1)\n",
    "train_X = torch.tensor(X, dtype=torch.float32)\n",
    "train_Y = torch.tensor(Y, dtype=torch.int64)\n",
    "\n",
    "test_x, test_y = make_moons(n_samples=400, noise=0.1)\n",
    "test_X = torch.tensor(test_x, dtype=torch.float32)\n",
    "test_Y = torch.tensor(test_y, dtype=torch.int64)\n"
   ]
  },
  {
   "cell_type": "code",
   "execution_count": 14,
   "metadata": {},
   "outputs": [],
   "source": [
    "#Simple FFNN\n",
    "class FFNN(nn.Module):\n",
    "    def __init__(self,dimenisonalEmbedding):\n",
    "        super(FFNN, self).__init__()\n",
    "        self.layer1 = nn.Linear(2,dimenisonalEmbedding)\n",
    "        self.layer2 = nn.Linear(dimenisonalEmbedding,2)\n",
    "    def forward(self,x):\n",
    "        x = torch.relu(self.layer1(x))\n",
    "        return self.layer2(x)"
   ]
  },
  {
   "cell_type": "code",
   "execution_count": 15,
   "metadata": {},
   "outputs": [
    {
     "name": "stdout",
     "output_type": "stream",
     "text": [
      "Epoch: 0, Training Loss: 0.6833396553993225\n",
      "Epoch: 100, Training Loss: 0.022147512063384056\n",
      "Epoch: 200, Training Loss: 0.0077016763389110565\n",
      "Epoch: 300, Training Loss: 0.004653395619243383\n",
      "Epoch: 400, Training Loss: 0.0033851738553494215\n",
      "Epoch: 500, Training Loss: 0.0026818320620805025\n",
      "Epoch: 600, Training Loss: 0.0022317892871797085\n",
      "Epoch: 700, Training Loss: 0.0019269923213869333\n",
      "Epoch: 800, Training Loss: 0.0017046021530404687\n",
      "Epoch: 900, Training Loss: 0.0015318510122597218\n"
     ]
    }
   ],
   "source": [
    "modelFFNN = FFNN(100)\n",
    "lossFnCE = nn.CrossEntropyLoss()\n",
    "optimizer = torch.optim.Adam(modelFFNN.parameters(), lr=0.01)\n",
    "\n",
    "# Training loop\n",
    "modelFFNN.train() #technically not required\n",
    "for epoch in range(1000):\n",
    "    prediction = modelFFNN(train_X)\n",
    "    loss = lossFnCE(prediction, train_Y)\n",
    "    optimizer.zero_grad()\n",
    "    loss.backward()\n",
    "    optimizer.step()\n",
    "    if epoch % 100 == 0:\n",
    "        print(f\"Epoch: {epoch}, Training Loss: {loss.item()}\")"
   ]
  },
  {
   "cell_type": "code",
   "execution_count": 10,
   "metadata": {},
   "outputs": [
    {
     "name": "stdout",
     "output_type": "stream",
     "text": [
      "Testing loss = 0.0009852424263954163\n"
     ]
    }
   ],
   "source": [
    "predictionTest = modelFFNN(test_X)\n",
    "testLoss = lossFnCE(predictionTest, test_Y)\n",
    "print(f\"Testing loss = {testLoss.item()}\")"
   ]
  },
  {
   "cell_type": "code",
   "execution_count": 30,
   "metadata": {},
   "outputs": [],
   "source": [
    "import torchvision\n",
    "import torchvision.transforms as transforms\n",
    "from sklearn.model_selection import train_test_split\n",
    "\n",
    "# dataset operations\n",
    "# turns a image represented as a 2d array into a 1 d array\n",
    "transform = transforms.Compose([transforms.ToTensor()])\n",
    "data = torchvision.datasets.MNIST(root='./data', train=True, download=True, transform=transform)\n",
    "train_data, test_data = train_test_split(data, test_size=0.1)\n",
    "\n",
    "\n",
    "\n",
    "train_loader = torch.utils.data.DataLoader(train_data, batch_size=32, shuffle=True)\n",
    "test_loader = torch.utils.data.DataLoader(test_data)"
   ]
  },
  {
   "cell_type": "code",
   "execution_count": 17,
   "metadata": {},
   "outputs": [
    {
     "name": "stdout",
     "output_type": "stream",
     "text": [
      "5\n"
     ]
    },
    {
     "data": {
      "image/png": "[encoded data removed]",
      "text/plain": [
       "<Figure size 480x480 with 1 Axes>"
      ]
     },
     "metadata": {},
     "output_type": "display_data"
    }
   ],
   "source": [
    "#don't copy this down just done to show the data \n",
    "#I need to reload the as I implictly transform the data in the perivous load  \n",
    "from tensorflow import keras\n",
    "import matplotlib.pyplot as mplt\n",
    "#https://keras.io/api/datasets/\n",
    "(example_x, example_y), (_, _) = keras.datasets.mnist.load_data()\n",
    "mplt.matshow(example_x[0])\n",
    "print(example_y[0])"
   ]
  },
  {
   "cell_type": "code",
   "execution_count": 31,
   "metadata": {},
   "outputs": [],
   "source": [
    "class SimpleCNN(nn.Module):\n",
    "    def __init__(self):\n",
    "        super(SimpleCNN, self).__init__()\n",
    "        self.conv1 = nn.Conv2d(1, 16, 3)\n",
    "        self.fc1 = nn.Linear(16*26*26, 10)\n",
    "    \n",
    "    def forward(self, x):\n",
    "        x = torch.relu(self.conv1(x))\n",
    "        x = x.view(-1, 16*26*26)\n",
    "        return self.fc1(x)"
   ]
  },
  {
   "cell_type": "code",
   "execution_count": 32,
   "metadata": {},
   "outputs": [
    {
     "name": "stdout",
     "output_type": "stream",
     "text": [
      "epoch 1, training loss = 0.01752931997179985\n",
      "epoch 2, training loss = 0.03187795355916023\n",
      "epoch 3, training loss = 0.01786775141954422\n",
      "epoch 4, training loss = 0.008709493093192577\n",
      "epoch 5, training loss = 0.3147363066673279\n"
     ]
    }
   ],
   "source": [
    "modelCNN = SimpleCNN()\n",
    "lossFnCE = nn.CrossEntropyLoss()\n",
    "optimizer = torch.optim.Adam(modelCNN.parameters(), lr=0.01)\n",
    "\n",
    "# Training \n",
    "modelCNN.train()\n",
    "for epoch in range(5):\n",
    "    for images, labels in train_loader:\n",
    "        prediction = modelCNN(images)\n",
    "        loss = lossFnCE(prediction, labels)\n",
    "        optimizer.zero_grad()\n",
    "        loss.backward()\n",
    "        optimizer.step()\n",
    "    print(f\"epoch {epoch+1}, training loss = {loss.item()}\")"
   ]
  },
  {
   "cell_type": "code",
   "execution_count": 34,
   "metadata": {},
   "outputs": [],
   "source": [
    "predictions = []\n",
    "modelCNN.eval()\n",
    "trueLabels = []\n",
    "for images, labels in test_loader:\n",
    "    prediction = modelCNN(images)\n",
    "    predictions.append(int(np.argmax(prediction.detach())))\n",
    "    trueLabels.append(int(labels))\n",
    "\n",
    "# print(predictions)\n",
    "# print(trueLabels)\n"
   ]
  },
  {
   "cell_type": "code",
   "execution_count": 35,
   "metadata": {},
   "outputs": [
    {
     "data": {
      "text/plain": [
       "array([[574,   0,   1,   0,   0,   1,   0,   1,   3,   1],\n",
       "       [  0, 630,   2,   0,   4,   0,   0,   5,   1,   1],\n",
       "       [  1,   0, 593,   6,   1,   1,   0,   5,   3,   0],\n",
       "       [  0,   0,   1, 594,   0,   2,   0,   0,   1,   1],\n",
       "       [  1,   0,   2,   0, 625,   3,   0,   3,   5,   5],\n",
       "       [  0,   0,   0,   5,   0, 494,   1,   1,   1,   1],\n",
       "       [  6,   0,   1,   1,   2,   7, 566,   0,   3,   0],\n",
       "       [  0,   2,   5,   5,   0,   0,   0, 633,   1,   9],\n",
       "       [  5,   3,   5,   3,   2,   2,   6,   1, 569,   3],\n",
       "       [  0,   0,   0,   3,   4,   1,   0,   3,   6, 563]], dtype=int64)"
      ]
     },
     "execution_count": 35,
     "metadata": {},
     "output_type": "execute_result"
    }
   ],
   "source": [
    "from sklearn.metrics import confusion_matrix\n",
    "cf_matrix = confusion_matrix(predictions, trueLabels)\n",
    "cf_matrix\n"
   ]
  },
  {
   "cell_type": "code",
   "execution_count": 36,
   "metadata": {},
   "outputs": [
    {
     "data": {
      "text/plain": [
       "Text(95.72222222222221, 0.5, 'Actual Result')"
      ]
     },
     "execution_count": 36,
     "metadata": {},
     "output_type": "execute_result"
    },
    {
     "data": {
      "image/png": "[encoded data removed]",
      "text/plain": [
       "<Figure size 1000x700 with 2 Axes>"
      ]
     },
     "metadata": {},
     "output_type": "display_data"
    }
   ],
   "source": [
    "#Copied off this website https://medium.com/@dtuk81/confusion-matrix-visualization-fc31e3f30fea\n",
    "import seaborn as sns\n",
    "mplt.figure(figsize=(10,7))\n",
    "sns.color_palette(\"bright\", 10)\n",
    "sns.heatmap(cf_matrix, annot=True, fmt=\"d\", cmap=\"coolwarm\")\n",
    "mplt.xlabel('Predicted Result')\n",
    "mplt.ylabel('Actual Result')"
   ]
  }
 ],
 "metadata": {
  "kernelspec": {
   "display_name": "Python 3",
   "language": "python",
   "name": "python3"
  },
  "language_info": {
   "codemirror_mode": {
    "name": "ipython",
    "version": 3
   },
   "file_extension": ".py",
   "mimetype": "text/x-python",
   "name": "python",
   "nbconvert_exporter": "python",
   "pygments_lexer": "ipython3",
   "version": "3.11.5"
  },
  "orig_nbformat": 4
 },
 "nbformat": 4,
 "nbformat_minor": 2
}
