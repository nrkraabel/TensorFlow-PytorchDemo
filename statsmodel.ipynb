{
 "cells": [
  {
   "cell_type": "code",
   "execution_count": 29,
   "metadata": {},
   "outputs": [],
   "source": [
    "import numpy as np\n",
    "import matplotlib.pyplot as plt\n",
    "import statsmodels.api as sm\n",
    "from sklearn.linear_model import LinearRegression\n"
   ]
  },
  {
   "cell_type": "code",
   "execution_count": 24,
   "metadata": {},
   "outputs": [],
   "source": [
    "df = sm.datasets.get_rdataset('Duncan', 'carData').data\n",
    "y = df['income']\n",
    "x = df['education']"
   ]
  },
  {
   "cell_type": "code",
   "execution_count": 32,
   "metadata": {},
   "outputs": [],
   "source": [
    "\"\"\"Stats api linear regression\"\"\"\n",
    "model = sm.OLS(y, sm.add_constant(x))\n",
    "results = model.fit()\n",
    "\n",
    "# print(results.params)\n",
    "\n",
    "# print(results.summary())\n",
    "b, m = results.params\n",
    "\n",
    "\"\"\"Plot\"\"\"\n",
    "# plt.axline(xy1=(0, b), slope=m, label=f'$y = {m:.1f}x {b:+.1f}$', color='g', linestyle='--')\n",
    "# plt.scatter(x=x,y=y)\n",
    "\n",
    "# plt.xlim(0, 120)\n",
    "# plt.ylim(0, 100)\n",
    "\n"
   ]
  },
  {
   "cell_type": "code",
   "execution_count": 31,
   "metadata": {},
   "outputs": [],
   "source": [
    "\"\"\"Using Numpy\"\"\"\n",
    "m, b = np.polyfit(x, y, deg=1)\n",
    "# plt.axline(xy1=(0, b), slope=m, label=f'$y = {m:.1f}x {b:+.1f}$', color='g', linestyle='--')\n",
    "# plt.scatter(x=x,y=y)\n",
    "\n",
    "# plt.xlim(0, 120)\n",
    "# plt.ylim(0, 100)\n"
   ]
  },
  {
   "cell_type": "code",
   "execution_count": 30,
   "metadata": {},
   "outputs": [
    {
     "name": "stderr",
     "output_type": "stream",
     "text": [
      "C:\\Users\\Kraab\\AppData\\Local\\Temp\\ipykernel_43064\\2359080312.py:3: FutureWarning: Support for multi-dimensional indexing (e.g. `obj[:, None]`) is deprecated and will be removed in a future version.  Convert to a numpy array before indexing instead.\n",
      "  reg = LinearRegression().fit(x[:, None], y)\n"
     ]
    }
   ],
   "source": [
    "\"\"\"Using Sckit-Learn\"\"\"\n",
    "\n",
    "reg = LinearRegression().fit(x[:, None], y)\n",
    "b = reg.intercept_\n",
    "m = reg.coef_[0]\n",
    "# plt.axline(xy1=(0, b), slope=m, label=f'$y = {m:.1f}x {b:+.1f}$', color='g', linestyle='--')\n",
    "# plt.scatter(x=x,y=y)\n",
    "\n",
    "# plt.xlim(0, 120)\n",
    "# plt.ylim(0, 100)"
   ]
  }
 ],
 "metadata": {
  "kernelspec": {
   "display_name": "Python 3",
   "language": "python",
   "name": "python3"
  },
  "language_info": {
   "codemirror_mode": {
    "name": "ipython",
    "version": 3
   },
   "file_extension": ".py",
   "mimetype": "text/x-python",
   "name": "python",
   "nbconvert_exporter": "python",
   "pygments_lexer": "ipython3",
   "version": "3.8.6"
  },
  "orig_nbformat": 4,
  "vscode": {
   "interpreter": {
    "hash": "9650cb4e16cdd4a8e8e2d128bf38d875813998db22a3c986335f89e0cb4d7bb2"
   }
  }
 },
 "nbformat": 4,
 "nbformat_minor": 2
}
