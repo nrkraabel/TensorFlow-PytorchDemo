{
 "cells": [
  {
   "cell_type": "code",
   "execution_count": 33,
   "id": "a7b3d7aa",
   "metadata": {},
   "outputs": [],
   "source": [
    "import tensorflow as tf\n",
    "from tensorflow import keras\n",
    "import matplotlib.pyplot as mplt\n",
    "import numpy as np\n"
   ]
  },
  {
   "cell_type": "code",
   "execution_count": 34,
   "id": "c6c3faaf",
   "metadata": {},
   "outputs": [],
   "source": [
    "#https://keras.io/api/datasets/\n",
    "(train_x, train_y), (test_x, test_y) = keras.datasets.mnist.load_data()"
   ]
  },
  {
   "cell_type": "code",
   "execution_count": 35,
   "id": "f57bcc75",
   "metadata": {},
   "outputs": [
    {
     "data": {
      "text/plain": [
       "(28, 28)"
      ]
     },
     "execution_count": 35,
     "metadata": {},
     "output_type": "execute_result"
    }
   ],
   "source": [
    "#train_x are images as 2D arrays of pixel values\n",
    "train_x[0].shape"
   ]
  },
  {
   "cell_type": "code",
   "execution_count": 36,
   "id": "72094f81",
   "metadata": {},
   "outputs": [
    {
     "data": {
      "text/plain": [
       "60000"
      ]
     },
     "execution_count": 36,
     "metadata": {},
     "output_type": "execute_result"
    }
   ],
   "source": [
    "#Sizes of datasets\n",
    "len(train_x)"
   ]
  },
  {
   "cell_type": "code",
   "execution_count": 37,
   "id": "05fd9472",
   "metadata": {},
   "outputs": [
    {
     "data": {
      "text/plain": [
       "10000"
      ]
     },
     "execution_count": 37,
     "metadata": {},
     "output_type": "execute_result"
    }
   ],
   "source": [
    "len(test_x)"
   ]
  },
  {
   "cell_type": "code",
   "execution_count": 38,
   "id": "bdbbf1c8",
   "metadata": {},
   "outputs": [
    {
     "data": {
      "text/plain": [
       "<matplotlib.image.AxesImage at 0x1ea6b50f070>"
      ]
     },
     "execution_count": 38,
     "metadata": {},
     "output_type": "execute_result"
    },
    {
     "data": {
      "image/png": "[encoded data removed]",
      "text/plain": [
       "<Figure size 480x480 with 1 Axes>"
      ]
     },
     "metadata": {},
     "output_type": "display_data"
    }
   ],
   "source": [
    "mplt.matshow(train_x[0])"
   ]
  },
  {
   "cell_type": "code",
   "execution_count": 39,
   "id": "75f5e44d",
   "metadata": {},
   "outputs": [
    {
     "data": {
      "text/plain": [
       "5"
      ]
     },
     "execution_count": 39,
     "metadata": {},
     "output_type": "execute_result"
    }
   ],
   "source": [
    "train_y[0]"
   ]
  },
  {
   "cell_type": "code",
   "execution_count": 40,
   "id": "7f242c8d",
   "metadata": {},
   "outputs": [],
   "source": [
    "#scaling the dataset all pixels are between 0-255\n",
    "train_x = train_x/ 255\n",
    "test_x = test_x /255"
   ]
  },
  {
   "cell_type": "code",
   "execution_count": 41,
   "id": "0d0b07c7",
   "metadata": {},
   "outputs": [],
   "source": [
    "#When create training or input data it almost always needs to be 1D\n",
    "train_x_1D = train_x.reshape(len(train_x), 28*28)\n",
    "test_x_1D = test_x.reshape(len(test_x), 28*28)"
   ]
  },
  {
   "cell_type": "code",
   "execution_count": 42,
   "id": "5d830d41",
   "metadata": {},
   "outputs": [
    {
     "name": "stdout",
     "output_type": "stream",
     "text": [
      "Epoch 1/4\n",
      "1875/1875 [==============================] - 9s 4ms/step - loss: 0.6448 - accuracy: 0.8417\n",
      "Epoch 2/4\n",
      "1875/1875 [==============================] - 6s 3ms/step - loss: 0.3730 - accuracy: 0.8987\n",
      "Epoch 3/4\n",
      "1875/1875 [==============================] - 8s 4ms/step - loss: 0.3367 - accuracy: 0.9072\n",
      "Epoch 4/4\n",
      "1875/1875 [==============================] - 8s 4ms/step - loss: 0.3190 - accuracy: 0.9115\n"
     ]
    },
    {
     "data": {
      "text/plain": [
       "<keras.callbacks.History at 0x1ea6b55d1f0>"
      ]
     },
     "execution_count": 42,
     "metadata": {},
     "output_type": "execute_result"
    }
   ],
   "source": [
    "#Creating are model\n",
    "NeuralNetwork = keras.Sequential([\n",
    "    #dense every intail node is connect to all outputs nodes\n",
    "    keras.layers.Dense(10,input_shape=(784,),activation='sigmoid')\n",
    "])\n",
    "\n",
    "NeuralNetwork.compile(\n",
    "    #https://www.geeksforgeeks.org/optimizers-in-tensorflow/\n",
    "                    optimizer='adaMax', \n",
    "    #https://keras.io/api/losses/\n",
    "                    loss='sparse_categorical_crossentropy',\n",
    "                    metrics=['accuracy']\n",
    ")\n",
    "#training the model\n",
    "NeuralNetwork.fit(train_x_1D, train_y, epochs=4)"
   ]
  },
  {
   "cell_type": "code",
   "execution_count": 43,
   "id": "ec5a0a43",
   "metadata": {},
   "outputs": [
    {
     "name": "stdout",
     "output_type": "stream",
     "text": [
      "313/313 [==============================] - 1s 2ms/step - loss: 0.2995 - accuracy: 0.9178\n"
     ]
    },
    {
     "data": {
      "text/plain": [
       "[0.299455851316452, 0.9178000092506409]"
      ]
     },
     "execution_count": 43,
     "metadata": {},
     "output_type": "execute_result"
    }
   ],
   "source": [
    "#Testing on are test dataset\n",
    "NeuralNetwork.evaluate(test_x_1D, test_y)"
   ]
  },
  {
   "cell_type": "code",
   "execution_count": 44,
   "id": "898e086a",
   "metadata": {},
   "outputs": [
    {
     "data": {
      "text/plain": [
       "<matplotlib.image.AxesImage at 0x1ea5bb44610>"
      ]
     },
     "execution_count": 44,
     "metadata": {},
     "output_type": "execute_result"
    },
    {
     "data": {
      "image/png": "[encoded data removed]",
      "text/plain": [
       "<Figure size 480x480 with 1 Axes>"
      ]
     },
     "metadata": {},
     "output_type": "display_data"
    }
   ],
   "source": [
    "mplt.matshow(test_x[0])"
   ]
  },
  {
   "cell_type": "code",
   "execution_count": 45,
   "id": "fe93e696",
   "metadata": {},
   "outputs": [
    {
     "data": {
      "text/plain": [
       "<matplotlib.image.AxesImage at 0x1ea5bb7e0d0>"
      ]
     },
     "execution_count": 45,
     "metadata": {},
     "output_type": "execute_result"
    },
    {
     "data": {
      "image/png": "[encoded data removed]",
      "text/plain": [
       "<Figure size 480x480 with 1 Axes>"
      ]
     },
     "metadata": {},
     "output_type": "display_data"
    }
   ],
   "source": [
    "mplt.matshow(test_x[1])"
   ]
  },
  {
   "cell_type": "code",
   "execution_count": 46,
   "id": "2ec7dd28",
   "metadata": {},
   "outputs": [
    {
     "name": "stdout",
     "output_type": "stream",
     "text": [
      "313/313 [==============================] - 1s 3ms/step\n"
     ]
    }
   ],
   "source": [
    "predicted = NeuralNetwork.predict(test_x_1D)"
   ]
  },
  {
   "cell_type": "code",
   "execution_count": 47,
   "id": "28a1907c",
   "metadata": {},
   "outputs": [
    {
     "data": {
      "text/plain": [
       "array([1.4908819e-01, 9.1607049e-05, 1.4137994e-01, 8.1116712e-01,\n",
       "       2.2681288e-02, 8.1721395e-02, 2.1866488e-04, 9.9929446e-01,\n",
       "       1.5253711e-01, 7.3704493e-01], dtype=float32)"
      ]
     },
     "execution_count": 47,
     "metadata": {},
     "output_type": "execute_result"
    }
   ],
   "source": [
    "#Prediction array for test[0]\n",
    "predicted[0]"
   ]
  },
  {
   "cell_type": "code",
   "execution_count": 48,
   "id": "833b6557",
   "metadata": {},
   "outputs": [
    {
     "data": {
      "text/plain": [
       "7"
      ]
     },
     "execution_count": 48,
     "metadata": {},
     "output_type": "execute_result"
    }
   ],
   "source": [
    "np.argmax(predicted[0])"
   ]
  },
  {
   "cell_type": "code",
   "execution_count": 49,
   "id": "8dffe077",
   "metadata": {},
   "outputs": [
    {
     "data": {
      "text/plain": [
       "array([4.8449749e-01, 6.7252023e-03, 9.9474376e-01, 5.3677458e-01,\n",
       "       2.6080006e-06, 5.9707785e-01, 8.3095437e-01, 2.5050346e-07,\n",
       "       2.6734978e-01, 1.8778393e-05], dtype=float32)"
      ]
     },
     "execution_count": 49,
     "metadata": {},
     "output_type": "execute_result"
    }
   ],
   "source": [
    "#Prediction array for test[1]\n",
    "predicted[1]"
   ]
  },
  {
   "cell_type": "code",
   "execution_count": 50,
   "id": "78de5eaf",
   "metadata": {},
   "outputs": [
    {
     "data": {
      "text/plain": [
       "2"
      ]
     },
     "execution_count": 50,
     "metadata": {},
     "output_type": "execute_result"
    }
   ],
   "source": [
    "np.argmax(predicted[1])"
   ]
  },
  {
   "cell_type": "code",
   "execution_count": 51,
   "id": "aed4dfd9",
   "metadata": {},
   "outputs": [
    {
     "data": {
      "text/plain": [
       "[7, 2, 1, 0, 4, 1, 4, 9, 6, 9]"
      ]
     },
     "execution_count": 51,
     "metadata": {},
     "output_type": "execute_result"
    }
   ],
   "source": [
    "num_predictions = []\n",
    "for i in predicted:\n",
    "    num_predictions.append(np.argmax(i))\n",
    "num_predictions[:10]\n",
    "    "
   ]
  },
  {
   "cell_type": "code",
   "execution_count": 52,
   "id": "6a0ce502",
   "metadata": {},
   "outputs": [
    {
     "data": {
      "text/plain": [
       "<tf.Tensor: shape=(10, 10), dtype=int32, numpy=\n",
       "array([[ 962,    0,    2,    2,    0,    2,    9,    1,    2,    0],\n",
       "       [   0, 1109,    2,    2,    1,    3,    4,    1,   13,    0],\n",
       "       [   8,    6,  917,   17,   12,    1,   13,   13,   40,    5],\n",
       "       [   3,    1,   20,  922,    0,   20,    4,    9,   21,   10],\n",
       "       [   2,    1,    4,    1,  916,    0,   11,    1,    8,   38],\n",
       "       [   9,    4,    7,   42,   12,  750,   14,    8,   37,    9],\n",
       "       [  13,    3,    6,    1,   11,   11,  910,    1,    2,    0],\n",
       "       [   2,   11,   27,    6,    7,    0,    0,  936,    3,   36],\n",
       "       [   6,    9,    9,   26,    9,   23,   13,   12,  852,   15],\n",
       "       [  11,    7,    4,   12,   40,    7,    0,   19,    5,  904]])>"
      ]
     },
     "execution_count": 52,
     "metadata": {},
     "output_type": "execute_result"
    }
   ],
   "source": [
    "num_predictions = [np.argmax(i) for i in predicted]\n",
    "Graphic = tf.math.confusion_matrix(labels=test_y,predictions=num_predictions)\n",
    "Graphic"
   ]
  },
  {
   "cell_type": "code",
   "execution_count": 53,
   "id": "878ebf33",
   "metadata": {},
   "outputs": [
    {
     "data": {
      "text/plain": [
       "Text(95.72222222222221, 0.5, 'Actual Result')"
      ]
     },
     "execution_count": 53,
     "metadata": {},
     "output_type": "execute_result"
    },
    {
     "data": {
      "image/png": "[encoded data removed]",
      "text/plain": [
       "<Figure size 1000x700 with 2 Axes>"
      ]
     },
     "metadata": {},
     "output_type": "display_data"
    }
   ],
   "source": [
    "#Copied off this website https://medium.com/@dtuk81/confusion-matrix-visualization-fc31e3f30fea\n",
    "import seaborn as sns\n",
    "mplt.figure(figsize=(10,7))\n",
    "sns.color_palette(\"bright\", 10)\n",
    "sns.heatmap(Graphic,annot=True, fmt=\"d\", cmap=\"coolwarm\")\n",
    "mplt.xlabel('Predicted Result')\n",
    "mplt.ylabel('Actual Result')"
   ]
  }
 ],
 "metadata": {
  "kernelspec": {
   "display_name": "Python 3.8.6 64-bit",
   "language": "python",
   "name": "python3"
  },
  "language_info": {
   "codemirror_mode": {
    "name": "ipython",
    "version": 3
   },
   "file_extension": ".py",
   "mimetype": "text/x-python",
   "name": "python",
   "nbconvert_exporter": "python",
   "pygments_lexer": "ipython3",
   "version": "3.8.6"
  },
  "vscode": {
   "interpreter": {
    "hash": "9650cb4e16cdd4a8e8e2d128bf38d875813998db22a3c986335f89e0cb4d7bb2"
   }
  }
 },
 "nbformat": 4,
 "nbformat_minor": 5
}
