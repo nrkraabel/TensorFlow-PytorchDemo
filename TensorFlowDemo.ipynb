{
 "cells": [
  {
   "cell_type": "code",
   "execution_count": 3,
   "id": "a7b3d7aa",
   "metadata": {},
   "outputs": [],
   "source": [
    "import tensorflow as tf\n",
    "from tensorflow import keras\n",
    "import matplotlib.pyplot as mplt\n",
    "%matplotlib inline\n",
    "import numpy as np\n"
   ]
  },
  {
   "cell_type": "code",
   "execution_count": 4,
   "id": "c6c3faaf",
   "metadata": {},
   "outputs": [],
   "source": [
    "#https://keras.io/api/datasets/\n",
    "(train_x, train_y), (test_x, test_y) = keras.datasets.mnist.load_data()"
   ]
  },
  {
   "cell_type": "code",
   "execution_count": 5,
   "id": "f57bcc75",
   "metadata": {},
   "outputs": [
    {
     "data": {
      "text/plain": [
       "(28, 28)"
      ]
     },
     "execution_count": 5,
     "metadata": {},
     "output_type": "execute_result"
    }
   ],
   "source": [
    "#train_x are images as 2D arrays of pixel values\n",
    "train_x[0].shape"
   ]
  },
  {
   "cell_type": "code",
   "execution_count": 6,
   "id": "72094f81",
   "metadata": {},
   "outputs": [
    {
     "data": {
      "text/plain": [
       "60000"
      ]
     },
     "execution_count": 6,
     "metadata": {},
     "output_type": "execute_result"
    }
   ],
   "source": [
    "#Sizes of datasets\n",
    "len(train_x)"
   ]
  },
  {
   "cell_type": "code",
   "execution_count": 7,
   "id": "05fd9472",
   "metadata": {},
   "outputs": [
    {
     "data": {
      "text/plain": [
       "10000"
      ]
     },
     "execution_count": 7,
     "metadata": {},
     "output_type": "execute_result"
    }
   ],
   "source": [
    "len(test_x)"
   ]
  },
  {
   "cell_type": "code",
   "execution_count": 8,
   "id": "bdbbf1c8",
   "metadata": {},
   "outputs": [
    {
     "data": {
      "text/plain": [
       "<matplotlib.image.AxesImage at 0x1ea4e628c40>"
      ]
     },
     "execution_count": 8,
     "metadata": {},
     "output_type": "execute_result"
    },
    {
     "data": {
      "image/png": "[encoded data removed]",
      "text/plain": [
       "<Figure size 480x480 with 1 Axes>"
      ]
     },
     "metadata": {},
     "output_type": "display_data"
    }
   ],
   "source": [
    "mplt.matshow(train_x[0])"
   ]
  },
  {
   "cell_type": "code",
   "execution_count": 9,
   "id": "75f5e44d",
   "metadata": {},
   "outputs": [
    {
     "data": {
      "text/plain": [
       "5"
      ]
     },
     "execution_count": 9,
     "metadata": {},
     "output_type": "execute_result"
    }
   ],
   "source": [
    "train_y[0]"
   ]
  },
  {
   "cell_type": "code",
   "execution_count": 10,
   "id": "7f242c8d",
   "metadata": {},
   "outputs": [],
   "source": [
    "#scaling the dataset all pixels are between 0-255\n",
    "train_x = train_x/ 255\n",
    "test_x = test_x /255"
   ]
  },
  {
   "cell_type": "code",
   "execution_count": 11,
   "id": "0d0b07c7",
   "metadata": {},
   "outputs": [],
   "source": [
    "#When create training or input data it almost always needs to be 1D\n",
    "train_x_1D = train_x.reshape(len(train_x), 28*28)\n",
    "test_x_1D = test_x.reshape(len(test_x), 28*28)"
   ]
  },
  {
   "cell_type": "code",
   "execution_count": 12,
   "id": "5d830d41",
   "metadata": {},
   "outputs": [
    {
     "name": "stdout",
     "output_type": "stream",
     "text": [
      "Epoch 1/7\n",
      "1875/1875 [==============================] - 9s 4ms/step - loss: 0.6351 - accuracy: 0.8467\n",
      "Epoch 2/7\n",
      "1875/1875 [==============================] - 12s 6ms/step - loss: 0.3737 - accuracy: 0.8995\n",
      "Epoch 3/7\n",
      "1875/1875 [==============================] - 10s 5ms/step - loss: 0.3372 - accuracy: 0.9077\n",
      "Epoch 4/7\n",
      "1875/1875 [==============================] - 10s 5ms/step - loss: 0.3195 - accuracy: 0.9115\n",
      "Epoch 5/7\n",
      "1875/1875 [==============================] - 10s 5ms/step - loss: 0.3084 - accuracy: 0.9149\n",
      "Epoch 6/7\n",
      "1875/1875 [==============================] - 10s 5ms/step - loss: 0.3007 - accuracy: 0.9163\n",
      "Epoch 7/7\n",
      "1875/1875 [==============================] - 10s 5ms/step - loss: 0.2947 - accuracy: 0.9175\n"
     ]
    },
    {
     "data": {
      "text/plain": [
       "<keras.callbacks.History at 0x1ea4b3e5eb0>"
      ]
     },
     "execution_count": 12,
     "metadata": {},
     "output_type": "execute_result"
    }
   ],
   "source": [
    "#Creating are model\n",
    "NeuralNetwork = keras.Sequential([\n",
    "    #dense every intail node is connect to all outputs nodes\n",
    "    keras.layers.Dense(10,input_shape=(784,),activation='sigmoid')\n",
    "])\n",
    "\n",
    "NeuralNetwork.compile(\n",
    "    #https://www.geeksforgeeks.org/optimizers-in-tensorflow/\n",
    "                    optimizer='adaMax', \n",
    "    #https://keras.io/api/losses/\n",
    "                    loss='sparse_categorical_crossentropy',\n",
    "                    metrics=['accuracy']\n",
    ")\n",
    "#training the model\n",
    "NeuralNetwork.fit(train_x_1D, train_y, epochs=7)"
   ]
  },
  {
   "cell_type": "code",
   "execution_count": 13,
   "id": "ec5a0a43",
   "metadata": {},
   "outputs": [
    {
     "name": "stdout",
     "output_type": "stream",
     "text": [
      "313/313 [==============================] - 2s 5ms/step - loss: 0.2837 - accuracy: 0.9213\n"
     ]
    },
    {
     "data": {
      "text/plain": [
       "[0.2837073802947998, 0.9212999939918518]"
      ]
     },
     "execution_count": 13,
     "metadata": {},
     "output_type": "execute_result"
    }
   ],
   "source": [
    "#Testing on are test dataset\n",
    "NeuralNetwork.evaluate(test_x_1D, test_y)"
   ]
  },
  {
   "cell_type": "code",
   "execution_count": 14,
   "id": "898e086a",
   "metadata": {},
   "outputs": [
    {
     "data": {
      "text/plain": [
       "<matplotlib.image.AxesImage at 0x1ea4d6087f0>"
      ]
     },
     "execution_count": 14,
     "metadata": {},
     "output_type": "execute_result"
    },
    {
     "data": {
      "image/png": "[encoded data removed]",
      "text/plain": [
       "<Figure size 480x480 with 1 Axes>"
      ]
     },
     "metadata": {},
     "output_type": "display_data"
    }
   ],
   "source": [
    "mplt.matshow(test_x[0])"
   ]
  },
  {
   "cell_type": "code",
   "execution_count": 15,
   "id": "fe93e696",
   "metadata": {},
   "outputs": [
    {
     "data": {
      "text/plain": [
       "<matplotlib.image.AxesImage at 0x1ea4d674400>"
      ]
     },
     "execution_count": 15,
     "metadata": {},
     "output_type": "execute_result"
    },
    {
     "data": {
      "image/png": "[encoded data removed]",
      "text/plain": [
       "<Figure size 480x480 with 1 Axes>"
      ]
     },
     "metadata": {},
     "output_type": "display_data"
    }
   ],
   "source": [
    "mplt.matshow(test_x[1])"
   ]
  },
  {
   "cell_type": "code",
   "execution_count": 16,
   "id": "2ec7dd28",
   "metadata": {},
   "outputs": [
    {
     "name": "stdout",
     "output_type": "stream",
     "text": [
      "313/313 [==============================] - 2s 4ms/step\n"
     ]
    }
   ],
   "source": [
    "predicted = NeuralNetwork.predict(test_x_1D)"
   ]
  },
  {
   "cell_type": "code",
   "execution_count": 17,
   "id": "28a1907c",
   "metadata": {},
   "outputs": [
    {
     "data": {
      "text/plain": [
       "array([9.4318993e-02, 1.7028808e-05, 1.1760246e-01, 8.3270013e-01,\n",
       "       6.6885757e-03, 5.9237070e-02, 3.7300324e-05, 9.9936110e-01,\n",
       "       8.0571100e-02, 5.7327014e-01], dtype=float32)"
      ]
     },
     "execution_count": 17,
     "metadata": {},
     "output_type": "execute_result"
    }
   ],
   "source": [
    "#Prediction array for test[0]\n",
    "predicted[0]"
   ]
  },
  {
   "cell_type": "code",
   "execution_count": 18,
   "id": "833b6557",
   "metadata": {},
   "outputs": [
    {
     "data": {
      "text/plain": [
       "7"
      ]
     },
     "execution_count": 18,
     "metadata": {},
     "output_type": "execute_result"
    }
   ],
   "source": [
    "np.argmax(predicted[0])"
   ]
  },
  {
   "cell_type": "code",
   "execution_count": 19,
   "id": "8dffe077",
   "metadata": {},
   "outputs": [
    {
     "data": {
      "text/plain": [
       "array([2.83266246e-01, 2.06603250e-03, 9.92739201e-01, 3.75146866e-01,\n",
       "       2.05783792e-07, 5.33152580e-01, 7.52882481e-01, 1.20504335e-08,\n",
       "       1.74211219e-01, 1.78281664e-06], dtype=float32)"
      ]
     },
     "execution_count": 19,
     "metadata": {},
     "output_type": "execute_result"
    }
   ],
   "source": [
    "#Prediction array for test[1]\n",
    "predicted[1]"
   ]
  },
  {
   "cell_type": "code",
   "execution_count": 20,
   "id": "78de5eaf",
   "metadata": {},
   "outputs": [
    {
     "data": {
      "text/plain": [
       "2"
      ]
     },
     "execution_count": 20,
     "metadata": {},
     "output_type": "execute_result"
    }
   ],
   "source": [
    "np.argmax(predicted[1])"
   ]
  },
  {
   "cell_type": "code",
   "execution_count": 22,
   "id": "aed4dfd9",
   "metadata": {},
   "outputs": [
    {
     "data": {
      "text/plain": [
       "[7, 2, 1, 0, 4, 1, 4, 9, 6, 9]"
      ]
     },
     "execution_count": 22,
     "metadata": {},
     "output_type": "execute_result"
    }
   ],
   "source": [
    "num_predictions = []\n",
    "for i in predicted:\n",
    "    num_predictions.append(np.argmax(i))\n",
    "num_predictions[:10]\n",
    "    "
   ]
  },
  {
   "cell_type": "code",
   "execution_count": 23,
   "id": "6a0ce502",
   "metadata": {},
   "outputs": [
    {
     "data": {
      "text/plain": [
       "<tf.Tensor: shape=(10, 10), dtype=int32, numpy=\n",
       "array([[ 962,    0,    2,    1,    0,    2,   10,    1,    2,    0],\n",
       "       [   0, 1107,    2,    2,    1,    2,    4,    2,   15,    0],\n",
       "       [   7,    7,  917,   16,   11,    2,   14,   11,   41,    6],\n",
       "       [   3,    0,   23,  907,    0,   30,    3,   13,   21,   10],\n",
       "       [   1,    1,    3,    1,  915,    0,   13,    2,    9,   37],\n",
       "       [   9,    2,    3,   31,   10,  771,   19,    5,   34,    8],\n",
       "       [   8,    3,    5,    1,   10,   10,  918,    1,    2,    0],\n",
       "       [   2,    8,   22,    7,    8,    0,    0,  942,    4,   35],\n",
       "       [   6,    5,    7,   19,    9,   26,   11,   13,  870,    8],\n",
       "       [   9,    6,    2,   12,   37,   10,    0,   22,    7,  904]])>"
      ]
     },
     "execution_count": 23,
     "metadata": {},
     "output_type": "execute_result"
    }
   ],
   "source": [
    "num_predictions = [np.argmax(i) for i in predicted]\n",
    "Graphic = tf.math.confusion_matrix(labels=test_y,predictions=num_predictions)\n",
    "Graphic"
   ]
  },
  {
   "cell_type": "code",
   "execution_count": 32,
   "id": "878ebf33",
   "metadata": {},
   "outputs": [
    {
     "data": {
      "text/plain": [
       "Text(95.72222222222221, 0.5, 'Actual Result')"
      ]
     },
     "execution_count": 32,
     "metadata": {},
     "output_type": "execute_result"
    },
    {
     "data": {
      "image/png": "[encoded data removed]",
      "text/plain": [
       "<Figure size 1000x700 with 2 Axes>"
      ]
     },
     "metadata": {},
     "output_type": "display_data"
    }
   ],
   "source": [
    "#Copied off this website https://medium.com/@dtuk81/confusion-matrix-visualization-fc31e3f30fea\n",
    "import seaborn as sns\n",
    "mplt.figure(figsize=(10,7))\n",
    "sns.color_palette(\"bright\", 10)\n",
    "sns.heatmap(Graphic,annot=True, fmt=\"d\", cmap=\"coolwarm\")\n",
    "mplt.xlabel('Predicted Result')\n",
    "mplt.ylabel('Actual Result')"
   ]
  }
 ],
 "metadata": {
  "kernelspec": {
   "display_name": "Python 3.8.6 64-bit",
   "language": "python",
   "name": "python3"
  },
  "language_info": {
   "codemirror_mode": {
    "name": "ipython",
    "version": 3
   },
   "file_extension": ".py",
   "mimetype": "text/x-python",
   "name": "python",
   "nbconvert_exporter": "python",
   "pygments_lexer": "ipython3",
   "version": "3.8.6"
  },
  "vscode": {
   "interpreter": {
    "hash": "9650cb4e16cdd4a8e8e2d128bf38d875813998db22a3c986335f89e0cb4d7bb2"
   }
  }
 },
 "nbformat": 4,
 "nbformat_minor": 5
}
